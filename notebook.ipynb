{
 "cells": [
  {
   "cell_type": "code",
   "execution_count": 12,
   "metadata": {},
   "outputs": [],
   "source": [
    "import numpy as np\n",
    "import matplotlib.pyplot as plt\n",
    "import cvxpy as cvx\n",
    "#import sympy as sym\n",
    "import scipy.interpolate as interp"
   ]
  },
  {
   "cell_type": "code",
   "execution_count": 13,
   "metadata": {},
   "outputs": [],
   "source": [
    "eigvals = np.loadtxt(\"example_data/WESAD_eigenvalues.csv\", delimiter=\",\")"
   ]
  },
  {
   "cell_type": "code",
   "execution_count": 14,
   "metadata": {},
   "outputs": [],
   "source": [
    "s = np.sort(eigvals[0])\n",
    "Q_c = np.log(s[1:-1])\n",
    "n = len(s)\n",
    "p_i = np.linspace(0, 1, n)[1:-1]\n",
    "logit = np.log(p_i / (1 - p_i))"
   ]
  },
  {
   "cell_type": "code",
   "execution_count": null,
   "metadata": {},
   "outputs": [],
   "source": [
    "mu = cvx.Variable()\n",
    "scale = cvx.Variable()\n",
    "objective = cvx.Minimize(\n",
    "    cvx.norm2(\n",
    "        mu + scale * logit - Q_c\n",
    "    )\n",
    ")\n",
    "prob = cvx.Problem(objective)\n",
    "result = prob.solve(solver=cvx.CVXOPT)"
   ]
  },
  {
   "cell_type": "code",
   "execution_count": null,
   "metadata": {},
   "outputs": [
    {
     "name": "stdout",
     "output_type": "stream",
     "text": [
      "6.239455045061974\n"
     ]
    }
   ],
   "source": [
    "print(mu.value)"
   ]
  },
  {
   "cell_type": "code",
   "execution_count": null,
   "metadata": {},
   "outputs": [
    {
     "name": "stdout",
     "output_type": "stream",
     "text": [
      "0.3215499327087366\n"
     ]
    }
   ],
   "source": [
    "print(scale.value)"
   ]
  },
  {
   "cell_type": "code",
   "execution_count": null,
   "metadata": {},
   "outputs": [],
   "source": [
    "m = mu.value\n",
    "sc = scale.value"
   ]
  },
  {
   "cell_type": "code",
   "execution_count": null,
   "metadata": {},
   "outputs": [],
   "source": [
    "CDF = np.exp((np.log(s)-m)/sc) / (1 + np.exp((np.log(s)-m)/sc))\n",
    "pdf_fd = (CDF[1:] - CDF [:-1]) / ((s[-1] - s[0]) / n)"
   ]
  },
  {
   "cell_type": "code",
   "execution_count": null,
   "metadata": {},
   "outputs": [
    {
     "name": "stderr",
     "output_type": "stream",
     "text": [
      "C:\\Users\\nickj\\AppData\\Local\\Temp\\ipykernel_15656\\3242294390.py:2: RuntimeWarning: invalid value encountered in power\n",
      "  Quantile = np.exp(m) * logit**float(sc)\n"
     ]
    }
   ],
   "source": [
    "#Quantile = np.exp(m + sc * np.log(s[1:-1]/(1-s[1:-1])))\n",
    "Quantile = np.exp(m) * logit**float(sc)\n",
    "mc_sample = np.random.choice(Quantile, size=100_000)"
   ]
  },
  {
   "cell_type": "code",
   "execution_count": null,
   "metadata": {},
   "outputs": [],
   "source": [
    "pdf = (np.exp(-m/sc)*s**((1-sc)/sc)) / (\n",
    "    sc * (1 + np.exp((np.log(s)-m)/sc))**2\n",
    ")"
   ]
  },
  {
   "cell_type": "code",
   "execution_count": null,
   "metadata": {},
   "outputs": [
    {
     "name": "stderr",
     "output_type": "stream",
     "text": [
      "C:\\Users\\nickj\\AppData\\Local\\Temp\\ipykernel_15656\\2505589329.py:7: UserWarning: Matplotlib is currently using module://matplotlib_inline.backend_inline, which is a non-GUI backend, so cannot show the figure.\n",
      "  fig.show()\n"
     ]
    },
    {
     "data": {
      "image/png": "[encoded data removed]",
      "text/plain": [
       "<Figure size 300x300 with 1 Axes>"
      ]
     },
     "metadata": {},
     "output_type": "display_data"
    }
   ],
   "source": [
    "fig, ax = plt.subplots(figsize=(3, 3))\n",
    "ax.hist(s, bins=100, density=True, alpha=.8)\n",
    "#ax.plot( s[:-1], pdf_fd )\n",
    "#ax.plot(s, CDF/1000)\n",
    "ax.hist(mc_sample, bins=100, density=True, alpha=.8)\n",
    "#ax.plot(s, pdf)\n",
    "fig.show()"
   ]
  },
  {
   "cell_type": "code",
   "execution_count": null,
   "metadata": {},
   "outputs": [
    {
     "name": "stdout",
     "output_type": "stream",
     "text": [
      "a1 =  5.740578978530084\n",
      "a2 =  0.14338745127526878\n",
      "a3 =  0.9999999553175718\n",
      "a4 =  1.1660971528821396\n"
     ]
    },
    {
     "name": "stderr",
     "output_type": "stream",
     "text": [
      "C:\\Users\\nickj\\AppData\\Local\\Temp\\ipykernel_15656\\3605824401.py:29: RuntimeWarning: invalid value encountered in power\n",
      "  Quantile = np.exp(a1v) * np.exp(a4v*(p_i-.5)) * logit**(a2v + a3v*(p_i-.5))\n",
      "C:\\Users\\nickj\\AppData\\Local\\Temp\\ipykernel_15656\\3605824401.py:40: UserWarning: Matplotlib is currently using module://matplotlib_inline.backend_inline, which is a non-GUI backend, so cannot show the figure.\n",
      "  fig.show()\n"
     ]
    },
    {
     "data": {
      "image/png": "[encoded data removed]",
      "text/plain": [
       "<Figure size 300x300 with 1 Axes>"
      ]
     },
     "metadata": {},
     "output_type": "display_data"
    }
   ],
   "source": [
    "s = np.sort(eigvals[0])\n",
    "Q_c= np.log(s[1:-1])\n",
    "n = len(s)\n",
    "p_i = np.linspace(0, 1, n)[1:-1]\n",
    "logit = np.log(p_i / (1 - p_i))\n",
    "a1 = cvx.Variable()\n",
    "a2 = cvx.Variable()\n",
    "a3 = cvx.Variable()\n",
    "a4 = cvx.Variable()\n",
    "objective = cvx.Minimize(\n",
    "    cvx.norm2(\n",
    "        a1 + a4 * (p_i - .5) + cvx.multiply((a2 + a3*(p_i-.5)), logit) - Q_c\n",
    "    )\n",
    ")\n",
    "cons = [a3 >= 1]\n",
    "prob = cvx.Problem(objective, cons)\n",
    "result = prob.solve(solver=cvx.CVXOPT)\n",
    "a1v = a1.value\n",
    "a2v = a2.value\n",
    "a3v = a3.value\n",
    "a4v = a4.value\n",
    "print('a1 = ', a1v)\n",
    "print('a2 = ', a2v)\n",
    "print('a3 = ', a3v)\n",
    "print('a4 = ', a4v)\n",
    "#CDF = np.exp((np.log(s)-m)/sc) / (1 + np.exp((np.log(s)-m)/sc))\n",
    "#pdf_fd = (CDF[1:] - CDF [:-1]) / ((s[-1] - s[0]) / n)\n",
    "#Quantile = np.exp(m + sc * np.log(s[1:-1]/(1-s[1:-1])))\n",
    "Quantile = np.exp(a1v) * np.exp(a4v*(p_i-.5)) * logit**(a2v + a3v*(p_i-.5))\n",
    "mc_sample = np.random.choice(Quantile, size=100_000)\n",
    "#pdf = (np.exp(-m/sc)*s**((1-sc)/sc)) / (\n",
    " #   sc * (1 + np.exp((np.log(s)-m)/sc))**2\n",
    "#)\n",
    "fig, ax = plt.subplots(figsize=(3, 3))\n",
    "ax.hist(s, bins=100, density=True, alpha=.8)\n",
    "#ax.plot( s[:-1], pdf_fd )\n",
    "#ax.plot(s, CDF/1000)\n",
    "ax.hist(mc_sample, bins=40, density=True, alpha=.8)\n",
    "#ax.plot(s, pdf)\n",
    "fig.show()"
   ]
  },
  {
   "cell_type": "code",
   "execution_count": null,
   "metadata": {},
   "outputs": [
    {
     "name": "stdout",
     "output_type": "stream",
     "text": [
      "a1 =  478.7483142966558\n",
      "a2 =  -51.10664184959254\n",
      "a3 =  9.256784866087425\n",
      "a4 =  1129.1259560555961\n",
      "a5 =  1515.743160768206\n",
      "a6 =  369.44585576466574\n"
     ]
    },
    {
     "name": "stderr",
     "output_type": "stream",
     "text": [
      "C:\\Users\\nickj\\AppData\\Local\\Temp\\ipykernel_15656\\1167896598.py:49: UserWarning: Matplotlib is currently using module://matplotlib_inline.backend_inline, which is a non-GUI backend, so cannot show the figure.\n",
      "  fig.show()\n"
     ]
    },
    {
     "data": {
      "image/png": "[encoded data removed]",
      "text/plain": [
       "<Figure size 300x300 with 1 Axes>"
      ]
     },
     "metadata": {},
     "output_type": "display_data"
    }
   ],
   "source": [
    "s = np.sort(eigvals[0])\n",
    "Q_c= s[1:-1]\n",
    "#Q_c= np.log(s[1:-1])\n",
    "n = len(s)\n",
    "p_i = np.linspace(0, 1, n)[1:-1]\n",
    "logit = np.log(p_i / (1 - p_i))\n",
    "a1 = cvx.Variable()\n",
    "a2 = cvx.Variable()\n",
    "a3 = cvx.Variable()\n",
    "a4 = cvx.Variable()\n",
    "a5 = cvx.Variable()\n",
    "a6 = cvx.Variable()\n",
    "objective = cvx.Minimize(\n",
    "    cvx.norm2(\n",
    "        a1 + a4 * (p_i - .5) + a5 * (p_i - .5)**2\n",
    "        + cvx.multiply(a2 + a3*(p_i-.5) + a6*(p_i-.5)**2, logit) \n",
    "        - Q_c\n",
    "    )\n",
    ")\n",
    "#cons = [a >= .1 for a in [a1, a2, a3, a4, a5, a6]]\n",
    "prob = cvx.Problem(objective)#, cons)\n",
    "result = prob.solve(solver=cvx.CVXOPT)\n",
    "a1v = a1.value\n",
    "a2v = a2.value\n",
    "a3v = a3.value\n",
    "a4v = a4.value\n",
    "a5v = a5.value\n",
    "a6v = a6.value\n",
    "print('a1 = ', a1v)\n",
    "print('a2 = ', a2v)\n",
    "print('a3 = ', a3v)\n",
    "print('a4 = ', a4v)\n",
    "print('a5 = ', a5v)\n",
    "print('a6 = ', a6v)\n",
    "#CDF = np.exp((np.log(s)-m)/sc) / (1 + np.exp((np.log(s)-m)/sc))\n",
    "#pdf_fd = (CDF[1:] - CDF [:-1]) / ((s[-1] - s[0]) / n)\n",
    "#Quantile = np.exp(m + sc * np.log(s[1:-1]/(1-s[1:-1])))\n",
    "Quantile = a1v+a4v*(p_i-.5)+a5v*(p_i-.5)**2 + logit * (a2v+a3v*(p_i-.5)+a6v*(p_i-.5)**2)\n",
    "mc_sample = np.random.choice(Quantile, size=100_000)\n",
    "#pdf = (np.exp(-m/sc)*s**((1-sc)/sc)) / (\n",
    " #   sc * (1 + np.exp((np.log(s)-m)/sc))**2\n",
    "#)\n",
    "fig, ax = plt.subplots(figsize=(3, 3))\n",
    "ax.hist(s, bins=100, density=True, alpha=.8)\n",
    "#ax.plot( s[:-1], pdf_fd )\n",
    "#ax.plot(s, CDF/1000)\n",
    "ax.hist(mc_sample, bins=100, density=True, alpha=.8)\n",
    "#ax.plot(s, pdf)\n",
    "fig.show()"
   ]
  },
  {
   "cell_type": "code",
   "execution_count": null,
   "metadata": {},
   "outputs": [
    {
     "name": "stdout",
     "output_type": "stream",
     "text": [
      "a1 =  419.24544706968743\n",
      "a2 =  -100.72868898972493\n",
      "a3 =  -8.307319916914143\n",
      "a4 =  1478.4285226846223\n",
      "a5 =  2335.159966124223\n",
      "a6 =  500.59717304391927\n"
     ]
    },
    {
     "name": "stderr",
     "output_type": "stream",
     "text": [
      "C:\\Users\\nickj\\AppData\\Local\\Temp\\ipykernel_15656\\3735589585.py:49: UserWarning: Matplotlib is currently using module://matplotlib_inline.backend_inline, which is a non-GUI backend, so cannot show the figure.\n",
      "  fig.show()\n"
     ]
    },
    {
     "data": {
      "image/png": "[encoded data removed]",
      "text/plain": [
       "<Figure size 800x800 with 1 Axes>"
      ]
     },
     "metadata": {},
     "output_type": "display_data"
    }
   ],
   "source": [
    "s = np.sort(eigvals[25])\n",
    "Q_c= s[1:-1]\n",
    "#Q_c= np.log(s[1:-1])\n",
    "n = len(s)\n",
    "p_i = np.linspace(0, 1, n)[1:-1]\n",
    "logit = np.log(p_i / (1 - p_i))\n",
    "a1 = cvx.Variable()\n",
    "a2 = cvx.Variable()\n",
    "a3 = cvx.Variable()\n",
    "a4 = cvx.Variable()\n",
    "a5 = cvx.Variable()\n",
    "a6 = cvx.Variable()\n",
    "objective = cvx.Minimize(\n",
    "    cvx.norm2(\n",
    "        a1 + a4 * (p_i - .5) + a5 * (p_i - .5)**2\n",
    "        + cvx.multiply(a2 + a3*(p_i-.5) + a6*(p_i-.5)**2, logit) \n",
    "        - Q_c\n",
    "    )\n",
    ")\n",
    "#cons = [a >= .1 for a in [a1, a2, a3, a4, a5, a6]]\n",
    "prob = cvx.Problem(objective)#, cons)\n",
    "result = prob.solve(solver=cvx.CVXOPT)\n",
    "a1v = a1.value\n",
    "a2v = a2.value\n",
    "a3v = a3.value\n",
    "a4v = a4.value\n",
    "a5v = a5.value\n",
    "a6v = a6.value\n",
    "print('a1 = ', a1v)\n",
    "print('a2 = ', a2v)\n",
    "print('a3 = ', a3v)\n",
    "print('a4 = ', a4v)\n",
    "print('a5 = ', a5v)\n",
    "print('a6 = ', a6v)\n",
    "#CDF = np.exp((np.log(s)-m)/sc) / (1 + np.exp((np.log(s)-m)/sc))\n",
    "#pdf_fd = (CDF[1:] - CDF [:-1]) / ((s[-1] - s[0]) / n)\n",
    "#Quantile = np.exp(m + sc * np.log(s[1:-1]/(1-s[1:-1])))\n",
    "Quantile = a1v+a4v*(p_i-.5)+a5v*(p_i-.5)**2 + logit * (a2v+a3v*(p_i-.5)+a6v*(p_i-.5)**2)\n",
    "mc_sample = np.random.choice(Quantile, size=100_000)\n",
    "#pdf = (np.exp(-m/sc)*s**((1-sc)/sc)) / (\n",
    " #   sc * (1 + np.exp((np.log(s)-m)/sc))**2\n",
    "#)\n",
    "fig, ax = plt.subplots(figsize=(8, 8))\n",
    "ax.hist(s, bins=100, density=True, alpha=.8)\n",
    "#ax.plot( s[:-1], pdf_fd )\n",
    "#ax.plot(s, CDF/1000)\n",
    "ax.hist(mc_sample, bins=100, density=True, alpha=.8)\n",
    "#ax.plot(s, pdf)\n",
    "fig.show()"
   ]
  },
  {
   "cell_type": "code",
   "execution_count": null,
   "metadata": {},
   "outputs": [],
   "source": [
    "x, p, mu, sc = sym.symbols('x p mu sc')\n",
    "cdf = sym.solve(mu + sc * sym.log(p/(1-p)) - x, p)\n",
    "pdf = sym.diff(\n",
    "    cdf[0],\n",
    "    x\n",
    ")"
   ]
  },
  {
   "cell_type": "code",
   "execution_count": null,
   "metadata": {},
   "outputs": [
    {
     "data": {
      "text/latex": [
       "$\\displaystyle \\frac{e^{\\frac{- \\mu + x}{sc}}}{sc \\left(e^{\\frac{- \\mu + x}{sc}} + 1\\right)} - \\frac{e^{\\frac{2 \\left(- \\mu + x\\right)}{sc}}}{sc \\left(e^{\\frac{- \\mu + x}{sc}} + 1\\right)^{2}}$"
      ],
      "text/plain": [
       "exp((-mu + x)/sc)/(sc*(exp((-mu + x)/sc) + 1)) - exp(2*(-mu + x)/sc)/(sc*(exp((-mu + x)/sc) + 1)**2)"
      ]
     },
     "execution_count": 16,
     "metadata": {},
     "output_type": "execute_result"
    }
   ],
   "source": [
    "pdf"
   ]
  },
  {
   "cell_type": "code",
   "execution_count": null,
   "metadata": {},
   "outputs": [],
   "source": [
    "pdf_num = sym.lambdify([x, mu, sc], pdf, 'numpy')"
   ]
  },
  {
   "cell_type": "code",
   "execution_count": null,
   "metadata": {},
   "outputs": [
    {
     "data": {
      "text/plain": [
       "0.10499358540350656"
      ]
     },
     "execution_count": 18,
     "metadata": {},
     "output_type": "execute_result"
    }
   ],
   "source": [
    "pdf_num(3, 1, 1)"
   ]
  },
  {
   "cell_type": "code",
   "execution_count": null,
   "metadata": {},
   "outputs": [],
   "source": [
    "a1 = cvx.Variable()\n",
    "a2 = cvx.Variable()\n",
    "objective = cvx.Minimize(\n",
    "    cvx.norm2(\n",
    "        a1 + a2 * logit - Q_c\n",
    "    )\n",
    ")\n",
    "prob = cvx.Problem(objective)\n",
    "result = prob.solve(solver=cvx.CVXOPT)"
   ]
  },
  {
   "cell_type": "code",
   "execution_count": null,
   "metadata": {},
   "outputs": [
    {
     "data": {
      "text/plain": [
       "[<matplotlib.lines.Line2D at 0x1ebca15a280>]"
      ]
     },
     "execution_count": 20,
     "metadata": {},
     "output_type": "execute_result"
    },
    {
     "data": {
      "image/png": "[encoded data removed]",
      "text/plain": [
       "<Figure size 640x480 with 1 Axes>"
      ]
     },
     "metadata": {},
     "output_type": "display_data"
    }
   ],
   "source": [
    "fig, ax = plt.subplots()\n",
    "ax.hist(s, bins=100, density=True, alpha=.8)\n",
    "t = np.linspace(0, np.max(s), 1_000)\n",
    "plt.plot(t, pdf_num(t, a1.value, a2.value))"
   ]
  },
  {
   "cell_type": "code",
   "execution_count": null,
   "metadata": {},
   "outputs": [
    {
     "data": {
      "text/plain": [
       "(4072,)"
      ]
     },
     "execution_count": 21,
     "metadata": {},
     "output_type": "execute_result"
    }
   ],
   "source": [
    "s.shape"
   ]
  },
  {
   "cell_type": "code",
   "execution_count": null,
   "metadata": {},
   "outputs": [],
   "source": [
    "def mu_indices():\n",
    "    yield 0\n",
    "    yield 3\n",
    "    yield 4\n",
    "    current = 4\n",
    "    while True:\n",
    "        current += 2\n",
    "        yield current"
   ]
  },
  {
   "cell_type": "code",
   "execution_count": null,
   "metadata": {},
   "outputs": [],
   "source": [
    "mu_inds = mu_indices()"
   ]
  },
  {
   "cell_type": "code",
   "execution_count": null,
   "metadata": {},
   "outputs": [
    {
     "name": "stdout",
     "output_type": "stream",
     "text": [
      "0   0\n",
      "3   1\n",
      "4   2\n",
      "6   3\n",
      "8   4\n",
      "10   5\n",
      "12   6\n",
      "14   7\n",
      "16   8\n",
      "18   9\n",
      "20   10\n",
      "22   11\n"
     ]
    }
   ],
   "source": [
    "for ind, term in zip(mu_inds, range(20)):\n",
    "    print(ind, \" \", term)\n",
    "    if ind > 20:\n",
    "        break"
   ]
  },
  {
   "cell_type": "code",
   "execution_count": null,
   "metadata": {},
   "outputs": [],
   "source": [
    "class Person:\n",
    "\n",
    "    @staticmethod\n",
    "    def func1():\n",
    "        return Person.func2()\n",
    "    \n",
    "    @staticmethod\n",
    "    def func2():\n",
    "        return \"(:\""
   ]
  },
  {
   "cell_type": "code",
   "execution_count": null,
   "metadata": {},
   "outputs": [
    {
     "data": {
      "text/plain": [
       "'(:'"
      ]
     },
     "execution_count": 10,
     "metadata": {},
     "output_type": "execute_result"
    }
   ],
   "source": [
    "Person.func1()"
   ]
  },
  {
   "cell_type": "code",
   "execution_count": 17,
   "metadata": {},
   "outputs": [
    {
     "data": {
      "text/plain": [
       "Expression(AFFINE, UNKNOWN, ())"
      ]
     },
     "execution_count": 17,
     "metadata": {},
     "output_type": "execute_result"
    }
   ],
   "source": [
    "expr3 = 0\n",
    "expr3 += a[0]\n",
    "expr3"
   ]
  },
  {
   "cell_type": "code",
   "execution_count": 19,
   "metadata": {},
   "outputs": [
    {
     "ename": "TypeError",
     "evalue": "object of type 'Variable' has no len()",
     "output_type": "error",
     "traceback": [
      "\u001b[0;31m---------------------------------------------------------------------------\u001b[0m",
      "\u001b[0;31mTypeError\u001b[0m                                 Traceback (most recent call last)",
      "Cell \u001b[0;32mIn[19], line 1\u001b[0m\n\u001b[0;32m----> 1\u001b[0m \u001b[38;5;28mlen\u001b[39m(a)\n",
      "\u001b[0;31mTypeError\u001b[0m: object of type 'Variable' has no len()"
     ]
    }
   ],
   "source": [
    "len(a)"
   ]
  },
  {
   "cell_type": "code",
   "execution_count": 15,
   "metadata": {},
   "outputs": [
    {
     "name": "stderr",
     "output_type": "stream",
     "text": [
      "/tmp/ipykernel_8623/3357460488.py:59: UserWarning: FigureCanvasAgg is non-interactive, and thus cannot be shown\n",
      "  fig.show()\n"
     ]
    },
    {
     "data": {
      "image/png": "[encoded data removed]",
      "text/plain": [
       "<Figure size 800x800 with 1 Axes>"
      ]
     },
     "metadata": {},
     "output_type": "display_data"
    }
   ],
   "source": [
    "s = np.sort(eigvals[25])\n",
    "Q_c = s[1:-1]\n",
    "#Q_c= np.log(s[1:-1])\n",
    "n = len(s)\n",
    "p_i = np.linspace(0, 1, n)[1:-1]\n",
    "logit = np.log(p_i / (1 - p_i))\n",
    "k = 6\n",
    "a = cvx.Variable(k)\n",
    "if k >= 5:\n",
    "    inds1 = list(range(4, k, 2))\n",
    "    pow1 = np.arange(2, int(k/2), 1)\n",
    "    expr1 = a[0] + a[3] * (p_i - .5)\n",
    "    for i in range(len(inds1)):\n",
    "        expr1 += a[inds1[i]] * (p_i - .5)**int(pow1[i])\n",
    "elif k == 4:\n",
    "    expr1 = \"replace this\"\n",
    "else:\n",
    "    expr1 = \"reaally dude?\"\n",
    "if k >= 6:\n",
    "    inds2 = list(range(5, k, 2))\n",
    "    pow2 = np.arange(2, int(k/2), 1)\n",
    "    expr2 = a[1] + a[2] * (p_i - .5)\n",
    "    for i in range(len(inds2)):\n",
    "        expr2 += a[inds2[i]] * (p_i - .5)**int(pow2[i])\n",
    "elif k == 4:\n",
    "    expr2 = \"this needs replaced\"\n",
    "else:\n",
    "    expr2 = \"reaally dude?\"\n",
    "objective = cvx.Minimize(\n",
    "    cvx.norm2(\n",
    "        expr1 + cvx.multiply(expr2, logit) - Q_c\n",
    "    )\n",
    ")\n",
    "prob = cvx.Problem(objective)\n",
    "result = prob.solve()\n",
    "\n",
    "av = a.value\n",
    "def func1(p):\n",
    "        return av[0] + av[3] * (p - .5) + av[4]*(p-.5)**2#np.sum(av[inds1] * (p - .5)**pow1, axis=0) # need to be careful about summing if len(inds1) == 1\n",
    "def func2(p):\n",
    "        return av[1] + av[2] * (p - .5) + av[5]*(p-.5)**2#np.sum(av[inds2] * (p - .5)**pow2, axis=0)\n",
    "\n",
    "CDF_emperical_x = func1(p_i) + func2(p_i) * logit\n",
    "CDF_emperical_p = p_i\n",
    "CDF_spline = interp.PchipInterpolator( # monoticity-preserving cubic splines\n",
    "    CDF_emperical_x, CDF_emperical_p\n",
    ")\n",
    "pdf_spline = CDF_spline.derivative()\n",
    "\n",
    "Quantile = func1(p_i) + func2(p_i) * logit\n",
    "mc_sample = np.random.choice(Quantile, size=1_000_000)\n",
    "\n",
    "fig, ax = plt.subplots(figsize=(8, 8))\n",
    "ax.hist(s, bins=100, density=True, alpha=.8)\n",
    "#ax.plot(CDF_emperical_x, CDF_emperical_p)\n",
    "#ax.plot(CDF_emperical_x, CDF_spline(CDF_emperical_x))\n",
    "ax.plot(CDF_emperical_x, pdf_spline(CDF_emperical_x))\n",
    "#ax.hist(mc_sample, bins=1000, density=True)\n",
    "fig.show()"
   ]
  },
  {
   "cell_type": "code",
   "execution_count": 16,
   "metadata": {},
   "outputs": [
    {
     "data": {
      "text/plain": [
       "141.96772841436731"
      ]
     },
     "execution_count": 16,
     "metadata": {},
     "output_type": "execute_result"
    }
   ],
   "source": [
    "# Akaike information criterion\n",
    "randsamp = np.random.choice(s, size=10)\n",
    "likelihood = np.product( pdf_spline(randsamp) )\n",
    "AICval = 2*k - 2*np.log(likelihood)\n",
    "AICval"
   ]
  },
  {
   "cell_type": "code",
   "execution_count": null,
   "metadata": {},
   "outputs": [],
   "source": [
    "# make a subclass of the scipy distribution class\n",
    "\n",
    "# https://docs.scipy.org/doc/scipy/reference/stats.html"
   ]
  },
  {
   "cell_type": "code",
   "execution_count": null,
   "metadata": {},
   "outputs": [
    {
     "data": {
      "text/plain": [
       "array([2])"
      ]
     },
     "execution_count": 25,
     "metadata": {},
     "output_type": "execute_result"
    }
   ],
   "source": [
    "k = 6\n",
    "pow1 = np.arange(2, int(k/2))\n",
    "pow1"
   ]
  },
  {
   "cell_type": "code",
   "execution_count": null,
   "metadata": {},
   "outputs": [
    {
     "data": {
      "text/plain": [
       "array([6, 6, 6])"
      ]
     },
     "execution_count": 26,
     "metadata": {},
     "output_type": "execute_result"
    }
   ],
   "source": [
    "nums = np.array([[1, 2, 3],\n",
    "                 [1, 2, 3],\n",
    "                 [1, 2, 3]])\n",
    "np.sum(nums, axis=1)"
   ]
  },
  {
   "cell_type": "code",
   "execution_count": null,
   "metadata": {},
   "outputs": [
    {
     "data": {
      "text/plain": [
       "0.0"
      ]
     },
     "execution_count": 27,
     "metadata": {},
     "output_type": "execute_result"
    }
   ],
   "source": [
    "a = cvx.Variable(4)\n",
    "inds1 = [0, 1]\n",
    "inds2 = [2, 3]\n",
    "pow1 = np.array([2, 2])\n",
    "pow2 = np.array([2, 2])\n",
    "expr = a[0]**int(pow1[0])\n",
    "expr += a[1]**2\n",
    "objective = cvx.Minimize(\n",
    "    expr\n",
    ")\n",
    "prob = cvx.Problem(objective)\n",
    "prob.solve()"
   ]
  },
  {
   "cell_type": "code",
   "execution_count": null,
   "metadata": {},
   "outputs": [],
   "source": []
  },
  {
   "cell_type": "code",
   "execution_count": null,
   "metadata": {},
   "outputs": [
    {
     "data": {
      "text/plain": [
       "array([4, 8])"
      ]
     },
     "execution_count": 28,
     "metadata": {},
     "output_type": "execute_result"
    }
   ],
   "source": [
    "base = np.array([2, 2])\n",
    "power = np.array([2, 3])\n",
    "base**power"
   ]
  },
  {
   "cell_type": "code",
   "execution_count": null,
   "metadata": {},
   "outputs": [],
   "source": [
    "import numpy as np\n",
    "import matplotlib.pyplot as plt"
   ]
  },
  {
   "cell_type": "code",
   "execution_count": null,
   "metadata": {},
   "outputs": [],
   "source": [
    "def make_random_walk(n):\n",
    "    x = np.zeros(n)\n",
    "    x[0] = 1\n",
    "    for i in range(1, n):\n",
    "        xi = np.random.choice([-1, 1])\n",
    "        x[i] = x[i-1] + xi\n",
    "    return x"
   ]
  },
  {
   "cell_type": "code",
   "execution_count": null,
   "metadata": {},
   "outputs": [],
   "source": [
    "def exit_time(x, upper_bound=3, lower_bound=0):\n",
    "    first_time_below = np.min(\n",
    "        np.where(x <= lower_bound)[0]\n",
    "    )\n",
    "    first_time_above = np.min(\n",
    "        np.where( x >= upper_bound)[0]\n",
    "    )\n",
    "    return np.min([first_time_above, first_time_below])"
   ]
  },
  {
   "cell_type": "code",
   "execution_count": null,
   "metadata": {},
   "outputs": [],
   "source": [
    "def get_exit_times(realizations=100):\n",
    "    exit_times = np.zeros(realizations)\n",
    "    for i in range(realizations):\n",
    "        x = make_random_walk(10_000)\n",
    "        exit = exit_time(x)\n",
    "        exit_times[i] = exit\n",
    "    return exit_times"
   ]
  },
  {
   "cell_type": "code",
   "execution_count": null,
   "metadata": {},
   "outputs": [
    {
     "ename": "ValueError",
     "evalue": "zero-size array to reduction operation minimum which has no identity",
     "output_type": "error",
     "traceback": [
      "\u001b[1;31m---------------------------------------------------------------------------\u001b[0m",
      "\u001b[1;31mValueError\u001b[0m                                Traceback (most recent call last)",
      "Cell \u001b[1;32mIn[46], line 2\u001b[0m\n\u001b[0;32m      1\u001b[0m plt\u001b[38;5;241m.\u001b[39mhist(\n\u001b[1;32m----> 2\u001b[0m     \u001b[43mget_exit_times\u001b[49m\u001b[43m(\u001b[49m\u001b[43m)\u001b[49m,\n\u001b[0;32m      3\u001b[0m     bins \u001b[38;5;241m=\u001b[39m \u001b[38;5;241m30\u001b[39m\n\u001b[0;32m      4\u001b[0m )\n",
      "Cell \u001b[1;32mIn[45], line 5\u001b[0m, in \u001b[0;36mget_exit_times\u001b[1;34m(realizations)\u001b[0m\n\u001b[0;32m      3\u001b[0m \u001b[38;5;28;01mfor\u001b[39;00m i \u001b[38;5;129;01min\u001b[39;00m \u001b[38;5;28mrange\u001b[39m(realizations):\n\u001b[0;32m      4\u001b[0m     x \u001b[38;5;241m=\u001b[39m make_random_walk(\u001b[38;5;241m10_000\u001b[39m)\n\u001b[1;32m----> 5\u001b[0m     exit \u001b[38;5;241m=\u001b[39m \u001b[43mexit_time\u001b[49m\u001b[43m(\u001b[49m\u001b[43mx\u001b[49m\u001b[43m)\u001b[49m\n\u001b[0;32m      6\u001b[0m     exit_times[i] \u001b[38;5;241m=\u001b[39m exit\n\u001b[0;32m      7\u001b[0m \u001b[38;5;28;01mreturn\u001b[39;00m exit_times\n",
      "Cell \u001b[1;32mIn[44], line 2\u001b[0m, in \u001b[0;36mexit_time\u001b[1;34m(x, upper_bound, lower_bound)\u001b[0m\n\u001b[0;32m      1\u001b[0m \u001b[38;5;28;01mdef\u001b[39;00m \u001b[38;5;21mexit_time\u001b[39m(x, upper_bound\u001b[38;5;241m=\u001b[39m\u001b[38;5;241m3\u001b[39m, lower_bound\u001b[38;5;241m=\u001b[39m\u001b[38;5;241m0\u001b[39m):\n\u001b[1;32m----> 2\u001b[0m     first_time_below \u001b[38;5;241m=\u001b[39m \u001b[43mnp\u001b[49m\u001b[38;5;241;43m.\u001b[39;49m\u001b[43mmin\u001b[49m\u001b[43m(\u001b[49m\n\u001b[0;32m      3\u001b[0m \u001b[43m        \u001b[49m\u001b[43mnp\u001b[49m\u001b[38;5;241;43m.\u001b[39;49m\u001b[43mwhere\u001b[49m\u001b[43m(\u001b[49m\u001b[43mx\u001b[49m\u001b[43m \u001b[49m\u001b[38;5;241;43m<\u001b[39;49m\u001b[38;5;241;43m=\u001b[39;49m\u001b[43m \u001b[49m\u001b[43mlower_bound\u001b[49m\u001b[43m)\u001b[49m\u001b[43m[\u001b[49m\u001b[38;5;241;43m0\u001b[39;49m\u001b[43m]\u001b[49m\n\u001b[0;32m      4\u001b[0m \u001b[43m    \u001b[49m\u001b[43m)\u001b[49m\n\u001b[0;32m      5\u001b[0m     first_time_above \u001b[38;5;241m=\u001b[39m np\u001b[38;5;241m.\u001b[39mmin(\n\u001b[0;32m      6\u001b[0m         np\u001b[38;5;241m.\u001b[39mwhere( x \u001b[38;5;241m>\u001b[39m\u001b[38;5;241m=\u001b[39m upper_bound)[\u001b[38;5;241m0\u001b[39m]\n\u001b[0;32m      7\u001b[0m     )\n\u001b[0;32m      8\u001b[0m     \u001b[38;5;28;01mreturn\u001b[39;00m np\u001b[38;5;241m.\u001b[39mmin([first_time_above, first_time_below])\n",
      "File \u001b[1;32m<__array_function__ internals>:200\u001b[0m, in \u001b[0;36mamin\u001b[1;34m(*args, **kwargs)\u001b[0m\n",
      "File \u001b[1;32mc:\\Users\\nickj\\Miniconda3\\envs\\tfp\\lib\\site-packages\\numpy\\core\\fromnumeric.py:2946\u001b[0m, in \u001b[0;36mamin\u001b[1;34m(a, axis, out, keepdims, initial, where)\u001b[0m\n\u001b[0;32m   2829\u001b[0m \u001b[38;5;129m@array_function_dispatch\u001b[39m(_amin_dispatcher)\n\u001b[0;32m   2830\u001b[0m \u001b[38;5;28;01mdef\u001b[39;00m \u001b[38;5;21mamin\u001b[39m(a, axis\u001b[38;5;241m=\u001b[39m\u001b[38;5;28;01mNone\u001b[39;00m, out\u001b[38;5;241m=\u001b[39m\u001b[38;5;28;01mNone\u001b[39;00m, keepdims\u001b[38;5;241m=\u001b[39mnp\u001b[38;5;241m.\u001b[39m_NoValue, initial\u001b[38;5;241m=\u001b[39mnp\u001b[38;5;241m.\u001b[39m_NoValue,\n\u001b[0;32m   2831\u001b[0m          where\u001b[38;5;241m=\u001b[39mnp\u001b[38;5;241m.\u001b[39m_NoValue):\n\u001b[0;32m   2832\u001b[0m \u001b[38;5;250m    \u001b[39m\u001b[38;5;124;03m\"\"\"\u001b[39;00m\n\u001b[0;32m   2833\u001b[0m \u001b[38;5;124;03m    Return the minimum of an array or minimum along an axis.\u001b[39;00m\n\u001b[0;32m   2834\u001b[0m \n\u001b[1;32m   (...)\u001b[0m\n\u001b[0;32m   2944\u001b[0m \u001b[38;5;124;03m    6\u001b[39;00m\n\u001b[0;32m   2945\u001b[0m \u001b[38;5;124;03m    \"\"\"\u001b[39;00m\n\u001b[1;32m-> 2946\u001b[0m     \u001b[38;5;28;01mreturn\u001b[39;00m \u001b[43m_wrapreduction\u001b[49m\u001b[43m(\u001b[49m\u001b[43ma\u001b[49m\u001b[43m,\u001b[49m\u001b[43m \u001b[49m\u001b[43mnp\u001b[49m\u001b[38;5;241;43m.\u001b[39;49m\u001b[43mminimum\u001b[49m\u001b[43m,\u001b[49m\u001b[43m \u001b[49m\u001b[38;5;124;43m'\u001b[39;49m\u001b[38;5;124;43mmin\u001b[39;49m\u001b[38;5;124;43m'\u001b[39;49m\u001b[43m,\u001b[49m\u001b[43m \u001b[49m\u001b[43maxis\u001b[49m\u001b[43m,\u001b[49m\u001b[43m \u001b[49m\u001b[38;5;28;43;01mNone\u001b[39;49;00m\u001b[43m,\u001b[49m\u001b[43m \u001b[49m\u001b[43mout\u001b[49m\u001b[43m,\u001b[49m\n\u001b[0;32m   2947\u001b[0m \u001b[43m                          \u001b[49m\u001b[43mkeepdims\u001b[49m\u001b[38;5;241;43m=\u001b[39;49m\u001b[43mkeepdims\u001b[49m\u001b[43m,\u001b[49m\u001b[43m \u001b[49m\u001b[43minitial\u001b[49m\u001b[38;5;241;43m=\u001b[39;49m\u001b[43minitial\u001b[49m\u001b[43m,\u001b[49m\u001b[43m \u001b[49m\u001b[43mwhere\u001b[49m\u001b[38;5;241;43m=\u001b[39;49m\u001b[43mwhere\u001b[49m\u001b[43m)\u001b[49m\n",
      "File \u001b[1;32mc:\\Users\\nickj\\Miniconda3\\envs\\tfp\\lib\\site-packages\\numpy\\core\\fromnumeric.py:86\u001b[0m, in \u001b[0;36m_wrapreduction\u001b[1;34m(obj, ufunc, method, axis, dtype, out, **kwargs)\u001b[0m\n\u001b[0;32m     83\u001b[0m         \u001b[38;5;28;01melse\u001b[39;00m:\n\u001b[0;32m     84\u001b[0m             \u001b[38;5;28;01mreturn\u001b[39;00m reduction(axis\u001b[38;5;241m=\u001b[39maxis, out\u001b[38;5;241m=\u001b[39mout, \u001b[38;5;241m*\u001b[39m\u001b[38;5;241m*\u001b[39mpasskwargs)\n\u001b[1;32m---> 86\u001b[0m \u001b[38;5;28;01mreturn\u001b[39;00m ufunc\u001b[38;5;241m.\u001b[39mreduce(obj, axis, dtype, out, \u001b[38;5;241m*\u001b[39m\u001b[38;5;241m*\u001b[39mpasskwargs)\n",
      "\u001b[1;31mValueError\u001b[0m: zero-size array to reduction operation minimum which has no identity"
     ]
    }
   ],
   "source": [
    "plt.hist(\n",
    "    get_exit_times(),\n",
    "    bins = 30\n",
    ")"
   ]
  },
  {
   "cell_type": "code",
   "execution_count": null,
   "metadata": {},
   "outputs": [
    {
     "data": {
      "text/plain": [
       "[<matplotlib.lines.Line2D at 0x18ed4b0bbe0>]"
      ]
     },
     "execution_count": 16,
     "metadata": {},
     "output_type": "execute_result"
    },
    {
     "data": {
      "image/png": "[encoded data removed]",
      "text/plain": [
       "<Figure size 640x480 with 1 Axes>"
      ]
     },
     "metadata": {},
     "output_type": "display_data"
    }
   ],
   "source": [
    "plt.plot(random_walk)"
   ]
  },
  {
   "cell_type": "code",
   "execution_count": null,
   "metadata": {},
   "outputs": [
    {
     "data": {
      "text/plain": [
       "array([ 5,  6,  7,  8,  9, 10, 11, 12, 13, 14, 15, 16, 17, 18, 19, 20, 21,\n",
       "       22, 23, 24, 25, 26, 27, 28, 29], dtype=int64)"
      ]
     },
     "execution_count": 32,
     "metadata": {},
     "output_type": "execute_result"
    }
   ],
   "source": [
    "np.where( random_walk >= 5)[0]"
   ]
  },
  {
   "cell_type": "code",
   "execution_count": null,
   "metadata": {},
   "outputs": [],
   "source": [
    "def exit_time_distribution(realizations, upper_bound=10, lower_bound=3, x0=5):\n",
    "    exit_times = np.zeros(realizations)\n",
    "    for i in range(realizations):\n",
    "        x = x0\n",
    "        time = 0\n",
    "        while (x < upper_bound and x > lower_bound):\n",
    "            x = x + np.random.choice([-1, 1])\n",
    "            time += 1\n",
    "        exit_times[i] = time\n",
    "    return exit_times"
   ]
  },
  {
   "cell_type": "code",
   "execution_count": null,
   "metadata": {},
   "outputs": [],
   "source": [
    "exit_times = exit_time_distribution(realizations=10_000)"
   ]
  },
  {
   "cell_type": "code",
   "execution_count": null,
   "metadata": {},
   "outputs": [
    {
     "name": "stderr",
     "output_type": "stream",
     "text": [
      "C:\\Users\\nickj\\AppData\\Local\\Temp\\ipykernel_14464\\3275873638.py:4: UserWarning: Matplotlib is currently using module://matplotlib_inline.backend_inline, which is a non-GUI backend, so cannot show the figure.\n",
      "  fig.show()\n"
     ]
    },
    {
     "data": {
      "image/png": "[encoded data removed]",
      "text/plain": [
       "<Figure size 640x480 with 1 Axes>"
      ]
     },
     "metadata": {},
     "output_type": "display_data"
    }
   ],
   "source": [
    "fig, ax = plt.subplots()\n",
    "ax.hist(exit_times, bins=200)\n",
    "ax.set_xlim([0,20])\n",
    "fig.show()\n"
   ]
  },
  {
   "cell_type": "code",
   "execution_count": null,
   "metadata": {},
   "outputs": [
    {
     "data": {
      "text/plain": [
       "array([  6.,  16.,  33.,  27.,  92.,  49.,  28.,  17.,  94.,  24.,  20.,\n",
       "        60.,  12., 125.,  22.,  64.,  17.,  17.,  49.,  15.])"
      ]
     },
     "execution_count": 80,
     "metadata": {},
     "output_type": "execute_result"
    }
   ],
   "source": [
    "exit_times[:20]"
   ]
  },
  {
   "cell_type": "code",
   "execution_count": null,
   "metadata": {},
   "outputs": [],
   "source": [
    "def exit_time_distribution(realizations, upper_bound=10, lower_bound=0, x0=5):\n",
    "    exit_times = np.zeros(realizations)\n",
    "    for i in range(realizations):\n",
    "        x = x0\n",
    "        time = 0\n",
    "        while (x < upper_bound and x > lower_bound):\n",
    "            x = x + np.random.choice([-1, 0, 1])\n",
    "            time += 1\n",
    "        exit_times[i] = time\n",
    "    return exit_times"
   ]
  },
  {
   "cell_type": "code",
   "execution_count": null,
   "metadata": {},
   "outputs": [
    {
     "data": {
      "text/plain": [
       "(array([8.5250e+03, 1.0035e+04, 9.8700e+03, 8.8870e+03, 7.7350e+03,\n",
       "        6.8030e+03, 5.9900e+03, 5.2880e+03, 4.6800e+03, 3.9710e+03,\n",
       "        4.3910e+03, 2.9380e+03, 2.6160e+03, 2.3110e+03, 2.0040e+03,\n",
       "        1.7310e+03, 1.5800e+03, 1.3300e+03, 1.1660e+03, 1.0190e+03,\n",
       "        1.1070e+03, 7.6300e+02, 6.5000e+02, 6.1600e+02, 5.0700e+02,\n",
       "        4.3000e+02, 3.8400e+02, 3.4400e+02, 2.4900e+02, 2.6500e+02,\n",
       "        2.8600e+02, 1.8000e+02, 1.7000e+02, 1.4700e+02, 1.3300e+02,\n",
       "        1.0500e+02, 9.9000e+01, 8.0000e+01, 7.3000e+01, 7.5000e+01,\n",
       "        6.0000e+01, 5.4000e+01, 3.8000e+01, 3.4000e+01, 3.4000e+01,\n",
       "        2.8000e+01, 2.0000e+01, 1.7000e+01, 1.6000e+01, 2.2000e+01,\n",
       "        2.1000e+01, 1.3000e+01, 1.8000e+01, 8.0000e+00, 1.1000e+01,\n",
       "        1.2000e+01, 1.0000e+01, 7.0000e+00, 7.0000e+00, 4.0000e+00,\n",
       "        4.0000e+00, 3.0000e+00, 4.0000e+00, 2.0000e+00, 2.0000e+00,\n",
       "        3.0000e+00, 2.0000e+00, 0.0000e+00, 1.0000e+00, 0.0000e+00,\n",
       "        3.0000e+00, 1.0000e+00, 0.0000e+00, 0.0000e+00, 3.0000e+00,\n",
       "        1.0000e+00, 0.0000e+00, 0.0000e+00, 0.0000e+00, 1.0000e+00,\n",
       "        1.0000e+00, 0.0000e+00, 0.0000e+00, 0.0000e+00, 0.0000e+00,\n",
       "        0.0000e+00, 0.0000e+00, 0.0000e+00, 0.0000e+00, 0.0000e+00,\n",
       "        0.0000e+00, 1.0000e+00, 0.0000e+00, 0.0000e+00, 0.0000e+00,\n",
       "        0.0000e+00, 0.0000e+00, 0.0000e+00, 0.0000e+00, 1.0000e+00]),\n",
       " array([  5. ,   9.1,  13.2,  17.3,  21.4,  25.5,  29.6,  33.7,  37.8,\n",
       "         41.9,  46. ,  50.1,  54.2,  58.3,  62.4,  66.5,  70.6,  74.7,\n",
       "         78.8,  82.9,  87. ,  91.1,  95.2,  99.3, 103.4, 107.5, 111.6,\n",
       "        115.7, 119.8, 123.9, 128. , 132.1, 136.2, 140.3, 144.4, 148.5,\n",
       "        152.6, 156.7, 160.8, 164.9, 169. , 173.1, 177.2, 181.3, 185.4,\n",
       "        189.5, 193.6, 197.7, 201.8, 205.9, 210. , 214.1, 218.2, 222.3,\n",
       "        226.4, 230.5, 234.6, 238.7, 242.8, 246.9, 251. , 255.1, 259.2,\n",
       "        263.3, 267.4, 271.5, 275.6, 279.7, 283.8, 287.9, 292. , 296.1,\n",
       "        300.2, 304.3, 308.4, 312.5, 316.6, 320.7, 324.8, 328.9, 333. ,\n",
       "        337.1, 341.2, 345.3, 349.4, 353.5, 357.6, 361.7, 365.8, 369.9,\n",
       "        374. , 378.1, 382.2, 386.3, 390.4, 394.5, 398.6, 402.7, 406.8,\n",
       "        410.9, 415. ]),\n",
       " <BarContainer object of 100 artists>)"
      ]
     },
     "execution_count": 63,
     "metadata": {},
     "output_type": "execute_result"
    },
    {
     "data": {
      "image/png": "[encoded data removed]",
      "text/plain": [
       "<Figure size 640x480 with 1 Axes>"
      ]
     },
     "metadata": {},
     "output_type": "display_data"
    }
   ],
   "source": [
    "exit_times = exit_time_distribution(realizations=100_000)\n",
    "plt.hist(exit_times, bins=100)"
   ]
  },
  {
   "cell_type": "code",
   "execution_count": null,
   "metadata": {},
   "outputs": [],
   "source": []
  }
 ],
 "metadata": {
  "kernelspec": {
   "display_name": "recu",
   "language": "python",
   "name": "python3"
  },
  "language_info": {
   "codemirror_mode": {
    "name": "ipython",
    "version": 3
   },
   "file_extension": ".py",
   "mimetype": "text/x-python",
   "name": "python",
   "nbconvert_exporter": "python",
   "pygments_lexer": "ipython3",
   "version": "3.11.5"
  }
 },
 "nbformat": 4,
 "nbformat_minor": 2
}
